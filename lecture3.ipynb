{
 "cells": [
  {
   "cell_type": "code",
   "execution_count": 5,
   "metadata": {},
   "outputs": [],
   "source": [
    "import numpy as np\n",
    "ar_list = [i for i in range(20)]  \n",
    "np_list = np.array(ar_list)\n"
   ]
  },
  {
   "cell_type": "code",
   "execution_count": 8,
   "metadata": {},
   "outputs": [
    {
     "name": "stdout",
     "output_type": "stream",
     "text": [
      "0,1\n",
      "1,2\n",
      "2,3\n",
      "3,4\n",
      "4,5\n",
      "5,6\n"
     ]
    }
   ],
   "source": [
    "a = [1,2,3,4,5,6]\n",
    "for i , j in enumerate(a):\n",
    "    print(i , j , sep=\",\")\n"
   ]
  },
  {
   "cell_type": "code",
   "execution_count": 11,
   "metadata": {},
   "outputs": [
    {
     "name": "stdout",
     "output_type": "stream",
     "text": [
      "*********************** 0\n",
      "j :  0\n",
      "j :  2\n",
      "j :  4\n",
      "j :  6\n",
      "j :  8\n",
      "*********************** 2\n",
      "j :  0\n",
      "j :  2\n",
      "j :  4\n",
      "j :  6\n",
      "j :  8\n",
      "*********************** 4\n",
      "j :  0\n",
      "j :  2\n",
      "j :  4\n",
      "j :  6\n",
      "j :  8\n",
      "*********************** 6\n",
      "j :  0\n",
      "j :  2\n",
      "j :  4\n",
      "j :  6\n",
      "j :  8\n",
      "*********************** 8\n",
      "j :  0\n",
      "j :  2\n",
      "j :  4\n",
      "j :  6\n",
      "j :  8\n"
     ]
    }
   ],
   "source": [
    "for i in range(0, 10, 2):\n",
    "    print(\"***********************\", i)\n",
    "    for j in range(0, 10, 2):\n",
    "        print(\"j : \", j)\n",
    "       "
   ]
  },
  {
   "cell_type": "code",
   "execution_count": 19,
   "metadata": {},
   "outputs": [
    {
     "name": "stdout",
     "output_type": "stream",
     "text": [
      "*********** 2 단 ************\n",
      "2 곱하기 1 =  2\n",
      "2 곱하기 2 =  4\n",
      "2 곱하기 3 =  6\n",
      "2 곱하기 4 =  8\n",
      "2 곱하기 5 =  10\n",
      "2 곱하기 6 =  12\n",
      "2 곱하기 7 =  14\n",
      "2 곱하기 8 =  16\n",
      "2 곱하기 9 =  18\n",
      "*********** 3 단 ************\n",
      "3 곱하기 1 =  3\n",
      "3 곱하기 2 =  6\n",
      "3 곱하기 3 =  9\n",
      "3 곱하기 4 =  12\n",
      "3 곱하기 5 =  15\n",
      "3 곱하기 6 =  18\n",
      "3 곱하기 7 =  21\n",
      "3 곱하기 8 =  24\n",
      "3 곱하기 9 =  27\n",
      "*********** 4 단 ************\n",
      "4 곱하기 1 =  4\n",
      "4 곱하기 2 =  8\n",
      "4 곱하기 3 =  12\n",
      "4 곱하기 4 =  16\n",
      "4 곱하기 5 =  20\n",
      "4 곱하기 6 =  24\n",
      "4 곱하기 7 =  28\n",
      "4 곱하기 8 =  32\n",
      "4 곱하기 9 =  36\n",
      "*********** 5 단 ************\n",
      "5 곱하기 1 =  5\n",
      "5 곱하기 2 =  10\n",
      "5 곱하기 3 =  15\n",
      "5 곱하기 4 =  20\n",
      "5 곱하기 5 =  25\n",
      "5 곱하기 6 =  30\n",
      "5 곱하기 7 =  35\n",
      "5 곱하기 8 =  40\n",
      "5 곱하기 9 =  45\n",
      "*********** 6 단 ************\n",
      "6 곱하기 1 =  6\n",
      "6 곱하기 2 =  12\n",
      "6 곱하기 3 =  18\n",
      "6 곱하기 4 =  24\n",
      "6 곱하기 5 =  30\n",
      "6 곱하기 6 =  36\n",
      "6 곱하기 7 =  42\n",
      "6 곱하기 8 =  48\n",
      "6 곱하기 9 =  54\n",
      "*********** 7 단 ************\n",
      "7 곱하기 1 =  7\n",
      "7 곱하기 2 =  14\n",
      "7 곱하기 3 =  21\n",
      "7 곱하기 4 =  28\n",
      "7 곱하기 5 =  35\n",
      "7 곱하기 6 =  42\n",
      "7 곱하기 7 =  49\n",
      "7 곱하기 8 =  56\n",
      "7 곱하기 9 =  63\n",
      "*********** 8 단 ************\n",
      "8 곱하기 1 =  8\n",
      "8 곱하기 2 =  16\n",
      "8 곱하기 3 =  24\n",
      "8 곱하기 4 =  32\n",
      "8 곱하기 5 =  40\n",
      "8 곱하기 6 =  48\n",
      "8 곱하기 7 =  56\n",
      "8 곱하기 8 =  64\n",
      "8 곱하기 9 =  72\n",
      "*********** 9 단 ************\n",
      "9 곱하기 1 =  9\n",
      "9 곱하기 2 =  18\n",
      "9 곱하기 3 =  27\n",
      "9 곱하기 4 =  36\n",
      "9 곱하기 5 =  45\n",
      "9 곱하기 6 =  54\n",
      "9 곱하기 7 =  63\n",
      "9 곱하기 8 =  72\n",
      "9 곱하기 9 =  81\n"
     ]
    }
   ],
   "source": [
    "for i in range(2, 10):\n",
    "    print(\"***********\",i,\"단\",\"************\")\n",
    "    for j in range(1, 10):\n",
    "        print(\"%d 곱하기 %d = \" %(i,j),i*j)"
   ]
  },
  {
   "cell_type": "code",
   "execution_count": 20,
   "metadata": {},
   "outputs": [
    {
     "name": "stdout",
     "output_type": "stream",
     "text": [
      "Result !!!\n",
      "Result !!!\n",
      "Result !!!\n",
      "Result !!!\n",
      "Result !!!\n"
     ]
    }
   ],
   "source": [
    "i  = 1\n",
    "while i<6:\n",
    "    i += 1\n",
    "    print(\"Result !!!\")"
   ]
  },
  {
   "cell_type": "code",
   "execution_count": 2,
   "metadata": {},
   "outputs": [
    {
     "name": "stdout",
     "output_type": "stream",
     "text": [
      "34\n",
      "434\n",
      "43\n",
      "443\n",
      "s\n",
      "954\n"
     ]
    }
   ],
   "source": [
    "sum = 0\n",
    "i = 0 \n",
    "while True:\n",
    "    i = input();\n",
    "    if (i == \"s\" or i== \"S\"):\n",
    "        break;\n",
    "    else:\n",
    "        sum += int(i)\n",
    "print(sum)"
   ]
  },
  {
   "cell_type": "code",
   "execution_count": 1,
   "metadata": {},
   "outputs": [
    {
     "data": {
      "text/plain": [
       "0.03480719813048405"
      ]
     },
     "execution_count": 1,
     "metadata": {},
     "output_type": "execute_result"
    }
   ],
   "source": [
    "import random \n",
    "random.random()"
   ]
  },
  {
   "cell_type": "code",
   "execution_count": 2,
   "metadata": {},
   "outputs": [
    {
     "name": "stdout",
     "output_type": "stream",
     "text": [
      "3\n",
      "3\n",
      "4\n",
      "4\n",
      "4\n",
      "s\n",
      "18\n"
     ]
    }
   ],
   "source": [
    "sum = 0\n",
    "i = 0 \n",
    "while i != \"s\":\n",
    "    \n",
    "    sum += int(i)\n",
    "    i = input();\n",
    "print(sum)"
   ]
  },
  {
   "cell_type": "code",
   "execution_count": 3,
   "metadata": {},
   "outputs": [
    {
     "data": {
      "text/plain": [
       "1"
      ]
     },
     "execution_count": 3,
     "metadata": {},
     "output_type": "execute_result"
    }
   ],
   "source": [
    "def switch1(x):\n",
    "    return {\n",
    "        'a' : 1,\n",
    "        'b' : 2\n",
    "    }.get(x, 9)\n",
    "switch1('a')"
   ]
  },
  {
   "cell_type": "code",
   "execution_count": null,
   "metadata": {},
   "outputs": [
    {
     "name": "stdout",
     "output_type": "stream",
     "text": [
      "가위(1), 바위(2), 보(3) 을 입력해주세요! 7\n",
      "1,2,3,중에 하나를 선택하세요8\n",
      "1,2,3,중에 하나를 선택하세요ㅁ\n",
      "1,2,3,중에 하나를 선택하세요3\n",
      "비겼어요!\n"
     ]
    }
   ],
   "source": [
    "import random\n",
    "\n",
    "play = True\n",
    "while play:\n",
    "    # 유저 입력 코드\n",
    "    user = input(\"가위(1), 바위(2), 보(3) 을 입력해주세요! \")\n",
    "    while(user!= \"1\" and user != \"2\" and user != \"3\"):\n",
    "        user = input(\"1,2,3,중에 하나를 선택하세요\")\n",
    "        \n",
    "    # 컴퓨터 랜덤\n",
    "    computer = random.randint(1,3)\n",
    "    if(computer ==1):\n",
    "        computer = \"1\"\n",
    "        \n",
    "    elif(computer == 2):\n",
    "        computer = \"2\"\n",
    "        \n",
    "    elif(computer == 3):\n",
    "        computer = \"3\"\n",
    "        \n",
    "    else:\n",
    "        print(\"You are Wrong Word!!!\")\n",
    "        \n",
    "    #결과 코드\n",
    "    if (user == computer):\n",
    "        print(\"비겼어요!\")\n",
    "    elif(user == \"1\"):\n",
    "        if(computer == \"2\"):\n",
    "            print(\"당신은 졌습니다!!\")\n",
    "        elif(computer == \"3\"):\n",
    "            print(\"당신은 승리자입니다!\")\n",
    "    elif(user == \"2\"):\n",
    "        if(computer == \"1\"):\n",
    "            print(\"당신은 승리자입니다!\")\n",
    "        elif(computer == \"3\"):\n",
    "            print(\"당신은 졌습니다!!\")\n",
    "    elif(user == \"3\"):\n",
    "        if(computer == \"1\"):\n",
    "            print(\"당신은 졌습니다!!\")\n",
    "        elif(computer == \"3\"):\n",
    "            print(\"당신은 승리자입니다!\")\n",
    "    #재시작\n",
    "    userInput = input(\"끝내시려면 yes 재시작 하시려면 no\")\n",
    "    if (userInput == \"yes\"):\n",
    "        play = False\n",
    "        print(\"다음에 다시 볼수 있기를\")\n",
    "    else:\n",
    "        play =True"
   ]
  },
  {
   "cell_type": "code",
   "execution_count": 12,
   "metadata": {},
   "outputs": [
    {
     "name": "stdout",
     "output_type": "stream",
     "text": [
      "31\n",
      "4\n"
     ]
    }
   ],
   "source": [
    "a = [4, 5,31,9 ,10,20 ]\n",
    "print(max(a))\n",
    "print(min(a))"
   ]
  },
  {
   "cell_type": "code",
   "execution_count": 14,
   "metadata": {},
   "outputs": [
    {
     "name": "stdout",
     "output_type": "stream",
     "text": [
      "31\n"
     ]
    }
   ],
   "source": [
    "a = [4, 5,31,9 ,10,20 ]\n",
    "maxA = a[0]\n",
    "for i in range(1,len(a)):\n",
    "    if maxA < a[i]:\n",
    "        maxA = a[i]\n",
    "    \n",
    "print(maxA)"
   ]
  },
  {
   "cell_type": "code",
   "execution_count": 19,
   "metadata": {},
   "outputs": [
    {
     "name": "stdout",
     "output_type": "stream",
     "text": [
      "[65, 63, 9, 4, 17, 12, 31, 21, 38, 30]\n",
      "가장 큰값은 :  65\n"
     ]
    }
   ],
   "source": [
    "import random\n",
    "a = [random.randint(1,100) for i in range(10)]\n",
    "print(a)\n",
    "maxA = a[0]\n",
    "for i in range(1,len(a)):\n",
    "    if maxA < a[i]:\n",
    "        maxA = a[i]\n",
    "    \n",
    "print(\"가장 큰값은 : \" ,maxA)"
   ]
  },
  {
   "cell_type": "code",
   "execution_count": 4,
   "metadata": {},
   "outputs": [
    {
     "name": "stdout",
     "output_type": "stream",
     "text": [
      "{'name': 'Kim', 'age': 'twenties', 'address': 15}\n",
      "[('name', 'Kim'), ('age', 'twenties'), ('address', 15)]\n"
     ]
    }
   ],
   "source": [
    "keys = [\"name\", \"age\", \"address\"]\n",
    "values = [\"Kim\"  ,\"twenties\",15  ]\n",
    "dictA = dict(zip(keys , values))\n",
    "listA = list(zip(keys , values))\n",
    "print(dictA)\n",
    "print(listA)"
   ]
  },
  {
   "cell_type": "code",
   "execution_count": 11,
   "metadata": {},
   "outputs": [
    {
     "name": "stdout",
     "output_type": "stream",
     "text": [
      "10/20\n",
      "20/30\n",
      "30/40\n",
      "40\n"
     ]
    }
   ],
   "source": [
    "a = [[10,20],[20,30],[30,40]]\n",
    "for x , y in a:\n",
    "    print(x ,y , sep=\"/\")\n",
    "print(y)"
   ]
  },
  {
   "cell_type": "code",
   "execution_count": 16,
   "metadata": {},
   "outputs": [
    {
     "name": "stdout",
     "output_type": "stream",
     "text": [
      "잘못된 인덱스 list index out of range\n"
     ]
    }
   ],
   "source": [
    "x = [1, 2, 3]\n",
    "try:\n",
    "#     print(10 / 0)\n",
    "    x[5]\n",
    "# except ZeroDivisionError as e:\n",
    "#     print(\"숫자를 0으로 나눌수 없음\", e)\n",
    "except IndexError as e:\n",
    "    print(\"잘못된 인덱스\", e)\n"
   ]
  },
  {
   "cell_type": "code",
   "execution_count": null,
   "metadata": {},
   "outputs": [],
   "source": []
  }
 ],
 "metadata": {
  "kernelspec": {
   "display_name": "Python 3",
   "language": "python",
   "name": "python3"
  },
  "language_info": {
   "codemirror_mode": {
    "name": "ipython",
    "version": 3
   },
   "file_extension": ".py",
   "mimetype": "text/x-python",
   "name": "python",
   "nbconvert_exporter": "python",
   "pygments_lexer": "ipython3",
   "version": "3.7.3"
  }
 },
 "nbformat": 4,
 "nbformat_minor": 2
}
