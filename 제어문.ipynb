{
 "cells": [
  {
   "attachments": {},
   "cell_type": "markdown",
   "metadata": {},
   "source": [
    "## if 문\n",
    "<pre>if 조건식:\n",
    "         코드\n",
    "      </pre>\n"
   ]
  },
  {
   "cell_type": "code",
   "execution_count": 2,
   "metadata": {},
   "outputs": [
    {
     "name": "stdout",
     "output_type": "stream",
     "text": [
      "틀려요\n",
      "어때요\n"
     ]
    }
   ],
   "source": [
    "x = 10 \n",
    "if x == 11 :\n",
    "    print(\"맞아요\")\n",
    "else:\n",
    "    print(\"틀려요\")\n",
    "print(\"어때요\")"
   ]
  },
  {
   "cell_type": "code",
   "execution_count": 4,
   "metadata": {},
   "outputs": [
    {
     "name": "stdout",
     "output_type": "stream",
     "text": [
      "Okay~~!!\n"
     ]
    }
   ],
   "source": [
    "ㅌ = 4\n",
    "if ㅌ>0 and ㅌ <10:\n",
    "    print(\"Okay~~!!\")"
   ]
  },
  {
   "cell_type": "code",
   "execution_count": 7,
   "metadata": {},
   "outputs": [
    {
     "name": "stdout",
     "output_type": "stream",
     "text": [
      "Enter your power:20\n",
      "Please input correctly\n"
     ]
    }
   ],
   "source": [
    "mypower =int(input('Enter your power:'))\n",
    "\n",
    "if 50< mypower <=100:\n",
    "   print(\"You are weak!\")\n",
    "elif 100 < mypower < 500 :\n",
    "   print('You are so so.')\n",
    "elif mypower >= 500:\n",
    "   print(\"You win!\")\n",
    "else:\n",
    "   print(\"Please input correctly\")\n"
   ]
  },
  {
   "cell_type": "code",
   "execution_count": 4,
   "metadata": {},
   "outputs": [
    {
     "name": "stdout",
     "output_type": "stream",
     "text": [
      "Enter your math:34\n",
      "Enter your english:543\n",
      "Enter your science:534\n",
      "mean is :  370.3333333333333 Congraturation~!!\n"
     ]
    }
   ],
   "source": [
    "math =int(input('Enter your math:'))\n",
    "english =int(input('Enter your english:'))\n",
    "science =int(input('Enter your science:'))\n",
    "\n",
    "total = math + english + science\n",
    "mean = total/3\n",
    "\n",
    "if (mean>65):\n",
    "    print(\"mean is : \", mean , \"Congraturation~!!\")\n",
    "else:\n",
    "    print(\"God bless u !!\")    "
   ]
  },
  {
   "cell_type": "code",
   "execution_count": 10,
   "metadata": {},
   "outputs": [
    {
     "name": "stdout",
     "output_type": "stream",
     "text": [
      "52\n"
     ]
    }
   ],
   "source": [
    "for i in [1,2,3,4]:\n",
    "#     print(i)\n",
    "    for j in [10 , 11 ,12 , 13]:\n",
    "        multiple  = i*j\n",
    "#         print(multiple)\n",
    "print(multiple)"
   ]
  },
  {
   "cell_type": "code",
   "execution_count": 16,
   "metadata": {},
   "outputs": [
    {
     "name": "stdout",
     "output_type": "stream",
     "text": [
      "10\n",
      "9\n",
      "8\n",
      "7\n",
      "6\n",
      "5\n",
      "4\n",
      "3\n",
      "2\n",
      "1\n",
      "[10, 9, 8, 7, 6, 5, 4, 3, 2, 1]\n"
     ]
    }
   ],
   "source": [
    "a=[]\n",
    "for i in range(10, 0, -1):\n",
    "    print(i)\n",
    "    a.append(i)\n",
    "print(a)"
   ]
  },
  {
   "cell_type": "code",
   "execution_count": 17,
   "metadata": {},
   "outputs": [
    {
     "name": "stdout",
     "output_type": "stream",
     "text": [
      "O\n",
      "r\n",
      "a\n",
      "n\n",
      "g\n",
      "e\n"
     ]
    }
   ],
   "source": [
    "for i in \"Orange\":\n",
    "    print(i)"
   ]
  },
  {
   "cell_type": "code",
   "execution_count": 24,
   "metadata": {},
   "outputs": [
    {
     "name": "stdout",
     "output_type": "stream",
     "text": [
      "name\n",
      "math\n",
      "englis\n"
     ]
    }
   ],
   "source": [
    "a = {\"name\": \"tom\", \"math\": 80, \"englis\": 70}\n",
    "for i in a:\n",
    "    print(i)\n",
    "   "
   ]
  },
  {
   "cell_type": "code",
   "execution_count": null,
   "metadata": {},
   "outputs": [],
   "source": []
  }
 ],
 "metadata": {
  "kernelspec": {
   "display_name": "Python 3",
   "language": "python",
   "name": "python3"
  },
  "language_info": {
   "codemirror_mode": {
    "name": "ipython",
    "version": 3
   },
   "file_extension": ".py",
   "mimetype": "text/x-python",
   "name": "python",
   "nbconvert_exporter": "python",
   "pygments_lexer": "ipython3",
   "version": "3.7.3"
  }
 },
 "nbformat": 4,
 "nbformat_minor": 2
}
